{
 "cells": [
  {
   "cell_type": "code",
   "execution_count": 1,
   "id": "119b5e88",
   "metadata": {},
   "outputs": [],
   "source": [
    "import os\n",
    "import shutil\n",
    "import numpy as np\n",
    "import matplotlib.pyplot as plt\n",
    "import seaborn as sns\n",
    "import random"
   ]
  },
  {
   "cell_type": "code",
   "execution_count": 2,
   "id": "2b2632d7",
   "metadata": {},
   "outputs": [
    {
     "data": {
      "text/plain": [
       "['.ipynb_checkpoints', 'brain_tumor_final', 'original', 'pre_processing.ipynb']"
      ]
     },
     "execution_count": 2,
     "metadata": {},
     "output_type": "execute_result"
    }
   ],
   "source": [
    "os.listdir()"
   ]
  },
  {
   "cell_type": "code",
   "execution_count": 3,
   "id": "0769cf41",
   "metadata": {},
   "outputs": [
    {
     "data": {
      "text/plain": [
       "['0', '1']"
      ]
     },
     "execution_count": 3,
     "metadata": {},
     "output_type": "execute_result"
    }
   ],
   "source": [
    "data_folder = 'brain_tumor_final//'\n",
    "os.listdir(data_folder)"
   ]
  },
  {
   "cell_type": "code",
   "execution_count": 4,
   "id": "4e73dd32",
   "metadata": {},
   "outputs": [],
   "source": [
    "positive_class_nos = len(os.listdir(data_folder+\"1//\"))\n",
    "negative_class_nos = len(os.listdir(data_folder+\"0//\"))"
   ]
  },
  {
   "cell_type": "code",
   "execution_count": 5,
   "id": "20379443",
   "metadata": {},
   "outputs": [],
   "source": [
    "def show_values_on_bars(axs):\n",
    "    def _show_on_single_plot(ax):        \n",
    "        for p in ax.patches:\n",
    "            _x = p.get_x() + p.get_width() / 2\n",
    "            _y = p.get_y() + p.get_height()\n",
    "            value = '{:.2f}'.format(p.get_height())\n",
    "            ax.text(_x, _y, value, ha=\"center\") \n",
    "\n",
    "    if isinstance(axs, np.ndarray):\n",
    "        for idx, ax in np.ndenumerate(axs):\n",
    "            _show_on_single_plot(ax)\n",
    "    else:\n",
    "        _show_on_single_plot(axs)"
   ]
  },
  {
   "cell_type": "code",
   "execution_count": 9,
   "id": "ed4b7b46",
   "metadata": {},
   "outputs": [
    {
     "data": {
      "text/plain": [
       "Text(0.5, 1.0, 'Number of images in each class')"
      ]
     },
     "execution_count": 9,
     "metadata": {},
     "output_type": "execute_result"
    },
    {
     "data": {
      "image/png": "[encoded data removed]",
      "text/plain": [
       "<Figure size 720x504 with 1 Axes>"
      ]
     },
     "metadata": {
      "needs_background": "light"
     },
     "output_type": "display_data"
    }
   ],
   "source": [
    "labels = ['1','0']\n",
    "\n",
    "fig, ax = plt.subplots(figsize=(10,7))\n",
    "ax = sns.barplot(x = labels, y = [positive_class_nos,negative_class_nos])\n",
    "show_values_on_bars(ax)\n",
    "plt.title(\"Number of images in each class\")"
   ]
  },
  {
   "cell_type": "code",
   "execution_count": 10,
   "id": "b098842f",
   "metadata": {},
   "outputs": [],
   "source": [
    "os.mkdir(data_folder+'train//')\n",
    "os.mkdir(data_folder + 'test//')\n",
    "os.mkdir(data_folder + 'val//')"
   ]
  },
  {
   "cell_type": "code",
   "execution_count": 11,
   "id": "4fbf81b9",
   "metadata": {},
   "outputs": [],
   "source": [
    "def move_imgs(src, dst, nos):\n",
    "    \n",
    "    src_imgs = os.listdir(src)\n",
    "    \n",
    "    for i in range(nos):\n",
    "        rand_img = random.choice(src_imgs)\n",
    "        shutil.move(src + rand_img, dst)\n",
    "        src_imgs.remove(rand_img)"
   ]
  },
  {
   "cell_type": "code",
   "execution_count": 12,
   "id": "dd1c89ad",
   "metadata": {},
   "outputs": [],
   "source": [
    "train_size = 0.7\n",
    "val_test_size = 0.15\n",
    "\n",
    "positive_imgs_nos = 1655\n",
    "positive_train_imgs_nos = round(train_size * positive_imgs_nos)\n",
    "positive_val_imgs_nos = round(val_test_size * positive_imgs_nos)\n",
    "positive_test_imgs_nos = round(val_test_size * positive_imgs_nos)\n",
    "\n",
    "negative_imgs_nos = 1598\n",
    "negative_train_imgs_nos = round(train_size * negative_imgs_nos)\n",
    "negative_val_imgs_nos = round(val_test_size * negative_imgs_nos)\n",
    "negative_test_imgs_nos = round(val_test_size * negative_imgs_nos)"
   ]
  },
  {
   "cell_type": "code",
   "execution_count": 13,
   "id": "ae405bba",
   "metadata": {},
   "outputs": [],
   "source": [
    "os.mkdir(data_folder + 'train//0//')\n",
    "os.mkdir(data_folder +'train//1//')\n",
    "\n",
    "os.mkdir(data_folder + 'val//0//')\n",
    "os.mkdir(data_folder +'val//1//')\n",
    "\n",
    "os.mkdir(data_folder + 'test//0//')\n",
    "os.mkdir(data_folder +'test//1//')"
   ]
  },
  {
   "cell_type": "code",
   "execution_count": 14,
   "id": "cc2c9e68",
   "metadata": {},
   "outputs": [
    {
     "ename": "IndexError",
     "evalue": "Cannot choose from an empty sequence",
     "output_type": "error",
     "traceback": [
      "\u001b[1;31m---------------------------------------------------------------------------\u001b[0m",
      "\u001b[1;31mIndexError\u001b[0m                                Traceback (most recent call last)",
      "\u001b[1;32m<ipython-input-14-b3f05c23e13c>\u001b[0m in \u001b[0;36m<module>\u001b[1;34m\u001b[0m\n\u001b[0;32m      5\u001b[0m \u001b[0mmove_imgs\u001b[0m\u001b[1;33m(\u001b[0m\u001b[0mdata_folder\u001b[0m \u001b[1;33m+\u001b[0m\u001b[1;34m'0//'\u001b[0m\u001b[1;33m,\u001b[0m\u001b[0mdata_folder\u001b[0m \u001b[1;33m+\u001b[0m \u001b[1;34m'train//0//'\u001b[0m\u001b[1;33m,\u001b[0m\u001b[0mnegative_train_imgs_nos\u001b[0m\u001b[1;33m)\u001b[0m\u001b[1;33m\u001b[0m\u001b[1;33m\u001b[0m\u001b[0m\n\u001b[0;32m      6\u001b[0m \u001b[0mmove_imgs\u001b[0m\u001b[1;33m(\u001b[0m\u001b[0mdata_folder\u001b[0m \u001b[1;33m+\u001b[0m\u001b[1;34m'0//'\u001b[0m\u001b[1;33m,\u001b[0m\u001b[0mdata_folder\u001b[0m \u001b[1;33m+\u001b[0m \u001b[1;34m'val//0//'\u001b[0m\u001b[1;33m,\u001b[0m \u001b[0mnegative_val_imgs_nos\u001b[0m\u001b[1;33m)\u001b[0m\u001b[1;33m\u001b[0m\u001b[1;33m\u001b[0m\u001b[0m\n\u001b[1;32m----> 7\u001b[1;33m \u001b[0mmove_imgs\u001b[0m\u001b[1;33m(\u001b[0m\u001b[0mdata_folder\u001b[0m \u001b[1;33m+\u001b[0m\u001b[1;34m'0//'\u001b[0m\u001b[1;33m,\u001b[0m\u001b[0mdata_folder\u001b[0m \u001b[1;33m+\u001b[0m \u001b[1;34m'test//0//'\u001b[0m\u001b[1;33m,\u001b[0m \u001b[0mnegative_test_imgs_nos\u001b[0m\u001b[1;33m)\u001b[0m\u001b[1;33m\u001b[0m\u001b[1;33m\u001b[0m\u001b[0m\n\u001b[0m",
      "\u001b[1;32m<ipython-input-11-e37f307d1301>\u001b[0m in \u001b[0;36mmove_imgs\u001b[1;34m(src, dst, nos)\u001b[0m\n\u001b[0;32m      4\u001b[0m \u001b[1;33m\u001b[0m\u001b[0m\n\u001b[0;32m      5\u001b[0m     \u001b[1;32mfor\u001b[0m \u001b[0mi\u001b[0m \u001b[1;32min\u001b[0m \u001b[0mrange\u001b[0m\u001b[1;33m(\u001b[0m\u001b[0mnos\u001b[0m\u001b[1;33m)\u001b[0m\u001b[1;33m:\u001b[0m\u001b[1;33m\u001b[0m\u001b[1;33m\u001b[0m\u001b[0m\n\u001b[1;32m----> 6\u001b[1;33m         \u001b[0mrand_img\u001b[0m \u001b[1;33m=\u001b[0m \u001b[0mrandom\u001b[0m\u001b[1;33m.\u001b[0m\u001b[0mchoice\u001b[0m\u001b[1;33m(\u001b[0m\u001b[0msrc_imgs\u001b[0m\u001b[1;33m)\u001b[0m\u001b[1;33m\u001b[0m\u001b[1;33m\u001b[0m\u001b[0m\n\u001b[0m\u001b[0;32m      7\u001b[0m         \u001b[0mshutil\u001b[0m\u001b[1;33m.\u001b[0m\u001b[0mmove\u001b[0m\u001b[1;33m(\u001b[0m\u001b[0msrc\u001b[0m \u001b[1;33m+\u001b[0m \u001b[0mrand_img\u001b[0m\u001b[1;33m,\u001b[0m \u001b[0mdst\u001b[0m\u001b[1;33m)\u001b[0m\u001b[1;33m\u001b[0m\u001b[1;33m\u001b[0m\u001b[0m\n\u001b[0;32m      8\u001b[0m         \u001b[0msrc_imgs\u001b[0m\u001b[1;33m.\u001b[0m\u001b[0mremove\u001b[0m\u001b[1;33m(\u001b[0m\u001b[0mrand_img\u001b[0m\u001b[1;33m)\u001b[0m\u001b[1;33m\u001b[0m\u001b[1;33m\u001b[0m\u001b[0m\n",
      "\u001b[1;32mE:\\Anaconda3\\lib\\random.py\u001b[0m in \u001b[0;36mchoice\u001b[1;34m(self, seq)\u001b[0m\n\u001b[0;32m    288\u001b[0m             \u001b[0mi\u001b[0m \u001b[1;33m=\u001b[0m \u001b[0mself\u001b[0m\u001b[1;33m.\u001b[0m\u001b[0m_randbelow\u001b[0m\u001b[1;33m(\u001b[0m\u001b[0mlen\u001b[0m\u001b[1;33m(\u001b[0m\u001b[0mseq\u001b[0m\u001b[1;33m)\u001b[0m\u001b[1;33m)\u001b[0m\u001b[1;33m\u001b[0m\u001b[1;33m\u001b[0m\u001b[0m\n\u001b[0;32m    289\u001b[0m         \u001b[1;32mexcept\u001b[0m \u001b[0mValueError\u001b[0m\u001b[1;33m:\u001b[0m\u001b[1;33m\u001b[0m\u001b[1;33m\u001b[0m\u001b[0m\n\u001b[1;32m--> 290\u001b[1;33m             \u001b[1;32mraise\u001b[0m \u001b[0mIndexError\u001b[0m\u001b[1;33m(\u001b[0m\u001b[1;34m'Cannot choose from an empty sequence'\u001b[0m\u001b[1;33m)\u001b[0m \u001b[1;32mfrom\u001b[0m \u001b[1;32mNone\u001b[0m\u001b[1;33m\u001b[0m\u001b[1;33m\u001b[0m\u001b[0m\n\u001b[0m\u001b[0;32m    291\u001b[0m         \u001b[1;32mreturn\u001b[0m \u001b[0mseq\u001b[0m\u001b[1;33m[\u001b[0m\u001b[0mi\u001b[0m\u001b[1;33m]\u001b[0m\u001b[1;33m\u001b[0m\u001b[1;33m\u001b[0m\u001b[0m\n\u001b[0;32m    292\u001b[0m \u001b[1;33m\u001b[0m\u001b[0m\n",
      "\u001b[1;31mIndexError\u001b[0m: Cannot choose from an empty sequence"
     ]
    }
   ],
   "source": [
    "move_imgs(data_folder +'1//',data_folder + 'train//1//',positive_train_imgs_nos)\n",
    "move_imgs(data_folder +'1//',data_folder + 'val//1//',positive_val_imgs_nos)\n",
    "move_imgs(data_folder +'1//',data_folder + 'test//1//',positive_test_imgs_nos)\n",
    "\n",
    "move_imgs(data_folder +'0//',data_folder + 'train//0//',negative_train_imgs_nos)\n",
    "move_imgs(data_folder +'0//',data_folder + 'val//0//', negative_val_imgs_nos)\n",
    "move_imgs(data_folder +'0//',data_folder + 'test//0//', negative_test_imgs_nos)"
   ]
  }
 ],
 "metadata": {
  "kernelspec": {
   "display_name": "Python 3 (ipykernel)",
   "language": "python",
   "name": "python3"
  },
  "language_info": {
   "codemirror_mode": {
    "name": "ipython",
    "version": 3
   },
   "file_extension": ".py",
   "mimetype": "text/x-python",
   "name": "python",
   "nbconvert_exporter": "python",
   "pygments_lexer": "ipython3",
   "version": "3.8.0"
  }
 },
 "nbformat": 4,
 "nbformat_minor": 5
}
