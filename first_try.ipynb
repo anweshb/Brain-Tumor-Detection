{
 "cells": [
  {
   "cell_type": "code",
   "execution_count": 1,
   "id": "8a6e4c90",
   "metadata": {},
   "outputs": [],
   "source": [
    "import numpy as np\n",
    "import pandas as pd\n",
    "import seaborn as sns\n",
    "import matplotlib.pyplot as plt\n",
    "import tensorflow as tf\n",
    "from sklearn.metrics import accuracy_score, confusion_matrix\n",
    "from tensorflow.keras.models import Sequential\n",
    "from tensorflow.keras.layers import Dense, Dropout, Conv2D, MaxPool2D, Flatten, BatchNormalization, LeakyReLU\n",
    "from tensorflow.keras.optimizers import Adam\n",
    "from tensorflow.keras.callbacks import EarlyStopping\n",
    "from tensorflow.keras.preprocessing.image import ImageDataGenerator, load_img\n",
    "from tensorflow.keras.utils import plot_model"
   ]
  },
  {
   "cell_type": "code",
   "execution_count": 2,
   "id": "de6edf5e",
   "metadata": {},
   "outputs": [],
   "source": [
    "data_folder = 'brain_tumor_final//'\n",
    "train_dir = data_folder + \"train//\"\n",
    "val_dir = data_folder + \"val//\"\n",
    "test_dir = data_folder + \"test//\""
   ]
  },
  {
   "cell_type": "code",
   "execution_count": 3,
   "id": "d5452be2",
   "metadata": {},
   "outputs": [
    {
     "name": "stdout",
     "output_type": "stream",
     "text": [
      "Found 2277 images belonging to 2 classes.\n",
      "Found 488 images belonging to 2 classes.\n",
      "Found 488 images belonging to 2 classes.\n"
     ]
    }
   ],
   "source": [
    "data_gen = ImageDataGenerator(rescale = 1./255,\n",
    "                             shear_range = 0.2, \n",
    "                             zoom_range = 0.15,\n",
    "                             rotation_range = 7,\n",
    "                             width_shift_range=0.15,  \n",
    "                             height_shift_range=0.1,  \n",
    "                             horizontal_flip=True)\n",
    "\n",
    "train_gen = data_gen.flow_from_directory(train_dir,\n",
    "                                           target_size = (357, 328),\n",
    "                                           batch_size = 32,\n",
    "                                           shuffle = True,\n",
    "                                           color_mode = 'grayscale',\n",
    "                                            class_mode = 'binary')\n",
    "\n",
    "val_test_gen = ImageDataGenerator(rescale = 1./255)\n",
    "\n",
    "val_gen = val_test_gen.flow_from_directory(val_dir,\n",
    "                                      target_size = (357, 328),\n",
    "                                      batch_size = 32,\n",
    "                                      shuffle = False,\n",
    "                                      color_mode = 'grayscale',\n",
    "                                      class_mode = 'binary')\n",
    "\n",
    "test_gen = val_test_gen.flow_from_directory(test_dir,\n",
    "                                      target_size = (357, 328),\n",
    "                                      batch_size = 32,\n",
    "                                      shuffle = False,\n",
    "                                      color_mode = 'grayscale',\n",
    "                                      class_mode = 'binary')"
   ]
  },
  {
   "cell_type": "code",
   "execution_count": 4,
   "id": "7758b672",
   "metadata": {},
   "outputs": [],
   "source": [
    "model = Sequential()\n",
    "model.add(Conv2D(filters=32, kernel_size=3))\n",
    "model.add(LeakyReLU())\n",
    "model.add(MaxPool2D(pool_size=2, strides=2))\n",
    "\n",
    "model.add(Conv2D(filters = 64, kernel_size=3))\n",
    "model.add(LeakyReLU())\n",
    "model.add(MaxPool2D(pool_size=2, strides=2))\n",
    "\n",
    "model.add(Conv2D(filters = 128, kernel_size=3))\n",
    "model.add(LeakyReLU())\n",
    "model.add(MaxPool2D(pool_size=2, strides=2))\n",
    "\n",
    "model.add(Conv2D(filters = 256, kernel_size=3))\n",
    "model.add(LeakyReLU())\n",
    "model.add(MaxPool2D(pool_size=2, strides=2))\n",
    "\n",
    "model.add(Flatten())\n",
    "\n",
    "model.add(Dense(units=256))\n",
    "model.add(LeakyReLU())\n",
    "model.add(Dropout(0.1))\n",
    "\n",
    "model.add(Dense(units=1, activation='sigmoid'))\n",
    "\n",
    "optimizer = Adam(lr=0.0001, decay=1e-5)\n",
    "\n",
    "model.compile(optimizer = optimizer, \n",
    "            loss = 'binary_crossentropy', \n",
    "            metrics = ['accuracy'])"
   ]
  },
  {
   "cell_type": "code",
   "execution_count": null,
   "id": "78d07354",
   "metadata": {},
   "outputs": [
    {
     "name": "stdout",
     "output_type": "stream",
     "text": [
      "Epoch 1/100\n",
      "72/72 [==============================] - 64s 834ms/step - loss: 0.6506 - accuracy: 0.5928 - val_loss: 0.4486 - val_accuracy: 0.7725\n",
      "Epoch 2/100\n",
      "72/72 [==============================] - 27s 372ms/step - loss: 0.5177 - accuracy: 0.7318 - val_loss: 0.4521 - val_accuracy: 0.7992\n",
      "Epoch 3/100\n",
      "72/72 [==============================] - 33s 459ms/step - loss: 0.4893 - accuracy: 0.7749 - val_loss: 0.4029 - val_accuracy: 0.8135\n",
      "Epoch 4/100\n",
      "72/72 [==============================] - 26s 360ms/step - loss: 0.4438 - accuracy: 0.7853 - val_loss: 0.4005 - val_accuracy: 0.8176\n",
      "Epoch 5/100\n",
      "72/72 [==============================] - 24s 336ms/step - loss: 0.4259 - accuracy: 0.8088 - val_loss: 0.3899 - val_accuracy: 0.8299\n",
      "Epoch 6/100\n",
      "72/72 [==============================] - 34s 466ms/step - loss: 0.4316 - accuracy: 0.8051 - val_loss: 0.4522 - val_accuracy: 0.7992\n",
      "Epoch 7/100\n",
      "72/72 [==============================] - 28s 392ms/step - loss: 0.4436 - accuracy: 0.7796 - val_loss: 0.3456 - val_accuracy: 0.8607\n",
      "Epoch 8/100\n",
      "72/72 [==============================] - 29s 395ms/step - loss: 0.4190 - accuracy: 0.8105 - val_loss: 0.3980 - val_accuracy: 0.8135\n",
      "Epoch 9/100\n",
      "72/72 [==============================] - 25s 351ms/step - loss: 0.4128 - accuracy: 0.8230 - val_loss: 0.3439 - val_accuracy: 0.8545\n",
      "Epoch 10/100\n",
      "72/72 [==============================] - 27s 368ms/step - loss: 0.4070 - accuracy: 0.8033 - val_loss: 0.3127 - val_accuracy: 0.8586\n",
      "Epoch 11/100\n",
      "72/72 [==============================] - 25s 349ms/step - loss: 0.4127 - accuracy: 0.8025 - val_loss: 0.3187 - val_accuracy: 0.8648\n",
      "Epoch 12/100\n",
      "72/72 [==============================] - 26s 360ms/step - loss: 0.3882 - accuracy: 0.8164 - val_loss: 0.3606 - val_accuracy: 0.8443\n",
      "Epoch 13/100\n",
      "72/72 [==============================] - 30s 413ms/step - loss: 0.3898 - accuracy: 0.8218 - val_loss: 0.3384 - val_accuracy: 0.8607\n",
      "Epoch 14/100\n",
      "72/72 [==============================] - 27s 373ms/step - loss: 0.3529 - accuracy: 0.8479 - val_loss: 0.4087 - val_accuracy: 0.8320\n",
      "Epoch 15/100\n",
      "72/72 [==============================] - 31s 430ms/step - loss: 0.3777 - accuracy: 0.8332 - val_loss: 0.2671 - val_accuracy: 0.8791\n",
      "Epoch 16/100\n",
      "72/72 [==============================] - 26s 354ms/step - loss: 0.3390 - accuracy: 0.8468 - val_loss: 0.3300 - val_accuracy: 0.8648\n",
      "Epoch 17/100\n",
      "72/72 [==============================] - 28s 389ms/step - loss: 0.3495 - accuracy: 0.8399 - val_loss: 0.2510 - val_accuracy: 0.9057\n",
      "Epoch 18/100\n",
      "72/72 [==============================] - 26s 358ms/step - loss: 0.3288 - accuracy: 0.8515 - val_loss: 0.2239 - val_accuracy: 0.9098\n",
      "Epoch 19/100\n",
      "72/72 [==============================] - 32s 442ms/step - loss: 0.3196 - accuracy: 0.8601 - val_loss: 0.2491 - val_accuracy: 0.9139\n",
      "Epoch 20/100\n",
      "72/72 [==============================] - 43s 605ms/step - loss: 0.3053 - accuracy: 0.8637 - val_loss: 0.2449 - val_accuracy: 0.8955\n",
      "Epoch 21/100\n",
      "72/72 [==============================] - 30s 420ms/step - loss: 0.2898 - accuracy: 0.8681 - val_loss: 0.2527 - val_accuracy: 0.9098\n",
      "Epoch 22/100\n",
      "72/72 [==============================] - 29s 406ms/step - loss: 0.2942 - accuracy: 0.8777 - val_loss: 0.2078 - val_accuracy: 0.9221\n",
      "Epoch 23/100\n",
      "72/72 [==============================] - 26s 354ms/step - loss: 0.2900 - accuracy: 0.8680 - val_loss: 0.2029 - val_accuracy: 0.9344\n",
      "Epoch 24/100\n",
      "72/72 [==============================] - 28s 384ms/step - loss: 0.2808 - accuracy: 0.8782 - val_loss: 0.1871 - val_accuracy: 0.9447\n",
      "Epoch 25/100\n",
      "72/72 [==============================] - 27s 379ms/step - loss: 0.2601 - accuracy: 0.8887 - val_loss: 0.2225 - val_accuracy: 0.9180\n",
      "Epoch 26/100\n",
      "72/72 [==============================] - 27s 375ms/step - loss: 0.2656 - accuracy: 0.8837 - val_loss: 0.1724 - val_accuracy: 0.9426\n",
      "Epoch 27/100\n",
      "72/72 [==============================] - 83s 1s/step - loss: 0.2651 - accuracy: 0.8981 - val_loss: 0.1895 - val_accuracy: 0.9426\n",
      "Epoch 28/100\n",
      "72/72 [==============================] - 200s 3s/step - loss: 0.2440 - accuracy: 0.8979 - val_loss: 0.1762 - val_accuracy: 0.9426\n",
      "Epoch 29/100\n",
      "72/72 [==============================] - 186s 3s/step - loss: 0.2528 - accuracy: 0.8985 - val_loss: 0.1882 - val_accuracy: 0.9365\n",
      "Epoch 30/100\n",
      "35/72 [=============>................] - ETA: 1:21 - loss: 0.2477 - accuracy: 0.8881"
     ]
    }
   ],
   "source": [
    "stop = EarlyStopping(patience = 10, monitor = 'val_loss')\n",
    "history = model.fit(x = train_gen, validation_data = val_gen, epochs = 100, shuffle = True, callbacks=[stop])"
   ]
  },
  {
   "cell_type": "code",
   "execution_count": null,
   "id": "6c402d9c",
   "metadata": {},
   "outputs": [],
   "source": [
    "preds = model.predict(test_gen)"
   ]
  },
  {
   "cell_type": "code",
   "execution_count": null,
   "id": "6bbd188a",
   "metadata": {},
   "outputs": [],
   "source": [
    "preds = preds.round()"
   ]
  },
  {
   "cell_type": "code",
   "execution_count": null,
   "id": "b1b3bf81",
   "metadata": {},
   "outputs": [],
   "source": [
    "preds"
   ]
  },
  {
   "cell_type": "code",
   "execution_count": null,
   "id": "c3a38bdc",
   "metadata": {},
   "outputs": [],
   "source": [
    "labels = test_gen.labels"
   ]
  },
  {
   "cell_type": "code",
   "execution_count": null,
   "id": "1cdebe8d",
   "metadata": {},
   "outputs": [],
   "source": [
    "accuracy_score(labels,preds)"
   ]
  },
  {
   "cell_type": "code",
   "execution_count": null,
   "id": "1393ce82",
   "metadata": {},
   "outputs": [],
   "source": [
    "hist = pd.DataFrame(history.history)\n",
    "plt.rcParams[\"figure.figsize\"] = (20,10)\n",
    "hist.plot()"
   ]
  },
  {
   "cell_type": "code",
   "execution_count": null,
   "id": "d3c08999",
   "metadata": {},
   "outputs": [],
   "source": [
    "model.summary()"
   ]
  },
  {
   "cell_type": "code",
   "execution_count": null,
   "id": "62beea04",
   "metadata": {},
   "outputs": [],
   "source": [
    "# model.save('first_model.h5')"
   ]
  },
  {
   "cell_type": "code",
   "execution_count": null,
   "id": "5b12bd12",
   "metadata": {},
   "outputs": [],
   "source": []
  }
 ],
 "metadata": {
  "kernelspec": {
   "display_name": "Python 3 (ipykernel)",
   "language": "python",
   "name": "python3"
  },
  "language_info": {
   "codemirror_mode": {
    "name": "ipython",
    "version": 3
   },
   "file_extension": ".py",
   "mimetype": "text/x-python",
   "name": "python",
   "nbconvert_exporter": "python",
   "pygments_lexer": "ipython3",
   "version": "3.8.0"
  }
 },
 "nbformat": 4,
 "nbformat_minor": 5
}
